{
 "cells": [
  {
   "cell_type": "code",
   "execution_count": 1,
   "id": "49cc9e68-b7c7-44e4-b4e5-4e5e1714d4f9",
   "metadata": {},
   "outputs": [],
   "source": [
    "import pandas as pd\n",
    "import numpy as np\n",
    "\n",
    "# Creating a synthetic dataset\n",
    "np.random.seed()\n",
    "data_size = 500\n",
    "data = {\n",
    "    \"speed\": np.random.randint(0, 220, data_size),\n",
    "    \"engine_temp\": np.random.uniform(0, 60, data_size),\n",
    "    \"fuel_level\": np.random.uniform(10, 100, data_size),\n",
    "    \"tire_pressure\": np.random.uniform(30, 35, data_size),\n",
    "    \"car_age\": np.random.randint(0, 10, data_size),\n",
    "    \"weather_condition\": np.random.randint(0, 3, data_size),\n",
    "    \"driver_experience\": np.random.randint(0, 3, data_size),\n",
    "    \"traffic_condition\": np.random.randint(0, 3, data_size),\n",
    "}\n",
    "\n",
    "df = pd.DataFrame(data)\n",
    "\n",
    "# Defining the action based on speed\n",
    "def determine_action(speed):\n",
    "    if speed >= 120:\n",
    "        return \"really fast\"\n",
    "    elif speed >= 100:\n",
    "        return \"fast\"\n",
    "    elif speed >= 60:\n",
    "        return \"normal\"\n",
    "    elif 20 <= speed <= 30:\n",
    "        return \"slow\"\n",
    "    else:\n",
    "        return \"very slow\"\n",
    "\n",
    "df['action'] = df['speed'].apply(determine_action)\n",
    "\n",
    "\n"
   ]
  },
  {
   "cell_type": "code",
   "execution_count": 2,
   "id": "38653c84-d7de-4ccf-a11b-437f6ea5d83a",
   "metadata": {},
   "outputs": [
    {
     "name": "stdout",
     "output_type": "stream",
     "text": [
      "Accuracy: 1.0\n",
      "Precision: 1.0\n",
      "Recall: 1.0\n",
      "              precision    recall  f1-score   support\n",
      "\n",
      "        fast       1.00      1.00      1.00        12\n",
      "      normal       1.00      1.00      1.00        12\n",
      " really fast       1.00      1.00      1.00        39\n",
      "        slow       1.00      1.00      1.00        10\n",
      "   very slow       1.00      1.00      1.00        27\n",
      "\n",
      "    accuracy                           1.00       100\n",
      "   macro avg       1.00      1.00      1.00       100\n",
      "weighted avg       1.00      1.00      1.00       100\n",
      "\n"
     ]
    }
   ],
   "source": [
    "#importing necessary libraries for training and testing our Model\n",
    "\n",
    "from sklearn.model_selection import train_test_split\n",
    "from sklearn.preprocessing import StandardScaler\n",
    "from sklearn.tree import DecisionTreeClassifier\n",
    "from sklearn.metrics import classification_report, accuracy_score, precision_score, recall_score\n",
    "\n",
    "# Lets Split the data Now\n",
    "\n",
    "X = df.drop('action', axis=1)\n",
    "y = df['action']\n",
    "X_train, X_test, y_train, y_test = train_test_split(X, y, test_size=0.2, random_state=100)\n",
    "\n",
    "# Standardizing the features\n",
    "\n",
    "scaler = StandardScaler()\n",
    "X_train = scaler.fit_transform(X_train)\n",
    "X_test = scaler.transform(X_test)\n",
    "\n",
    "# Training the model Using Training DataSet\n",
    "\n",
    "model = DecisionTreeClassifier()\n",
    "model.fit(X_train, y_train)\n",
    "\n",
    "# Making predictions\n",
    "\n",
    "y_pred = model.predict(X_test)\n",
    "\n",
    "# Evaluating the model Performance\n",
    "\n",
    "accuracy = accuracy_score(y_test, y_pred)\n",
    "precision = precision_score(y_test, y_pred, average='weighted')\n",
    "recall = recall_score(y_test, y_pred, average='weighted')\n",
    "\n",
    "print(f\"Accuracy: {accuracy}\")\n",
    "print(f\"Precision: {precision}\")\n",
    "print(f\"Recall: {recall}\")\n",
    "print(classification_report(y_test, y_pred))\n"
   ]
  },
  {
   "cell_type": "code",
   "execution_count": null,
   "id": "1fadeb35-2ead-43e0-a205-5169217236ab",
   "metadata": {},
   "outputs": [],
   "source": []
  }
 ],
 "metadata": {
  "kernelspec": {
   "display_name": "Python 3 (ipykernel)",
   "language": "python",
   "name": "python3"
  },
  "language_info": {
   "codemirror_mode": {
    "name": "ipython",
    "version": 3
   },
   "file_extension": ".py",
   "mimetype": "text/x-python",
   "name": "python",
   "nbconvert_exporter": "python",
   "pygments_lexer": "ipython3",
   "version": "3.10.12"
  }
 },
 "nbformat": 4,
 "nbformat_minor": 5
}
